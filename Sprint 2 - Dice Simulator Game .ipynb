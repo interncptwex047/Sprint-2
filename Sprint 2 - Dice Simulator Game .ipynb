{
 "cells": [
  {
   "cell_type": "code",
   "execution_count": 1,
   "metadata": {},
   "outputs": [
    {
     "name": "stdout",
     "output_type": "stream",
     "text": [
      "Welcome to our Dice Rolling Simulator. \n",
      "You will play against the computer. \n",
      "The player with the highest outcome wins.\n"
     ]
    }
   ],
   "source": [
    "import random\n",
    "\n",
    "print(\"Welcome to our Dice Rolling Simulator.\", \"\\nYou will play against the computer.\", \"\\nThe player with the highest outcome wins.\")\n",
    "\n",
    "roll_dice = \"Yes\"\n",
    "pressEnter = roll_dice"
   ]
  },
  {
   "cell_type": "code",
   "execution_count": 2,
   "metadata": {},
   "outputs": [
    {
     "name": "stdout",
     "output_type": "stream",
     "text": [
      "Press enter to begin play!\n",
      "Yes\n",
      "\n"
     ]
    }
   ],
   "source": [
    "#The player will just press enter to begin playing.\n",
    "print(\"Press enter to begin play!\")\n",
    "print(input(roll_dice))"
   ]
  },
  {
   "cell_type": "code",
   "execution_count": null,
   "metadata": {},
   "outputs": [
    {
     "name": "stdout",
     "output_type": "stream",
     "text": [
      "\n",
      "Rolling the dice...\n",
      "Computer won\n",
      "You = 4 \n",
      "Computer = 5\n"
     ]
    }
   ],
   "source": [
    "    while roll_dice == \"Yes\" or roll_dice == \"yes\":\n",
    "        print(\"\\nRolling the dice...\")\n",
    "        \n",
    "        dice1 = random.randint(1, 6)\n",
    "        dice2 = random.randint(1, 6)\n",
    "        \n",
    "        if dice1 > dice2:\n",
    "            print(\"You won!\")\n",
    "            if dice1 == 6:\n",
    "                print(\"Killing it!\")\n",
    "            \n",
    "        elif dice1 < dice2:\n",
    "            print(\"Computer won\")\n",
    "            if dice2 == 6:\n",
    "                print(\"Uh uh \")\n",
    "            \n",
    "        else:\n",
    "            print(\"It's a draw\")\n",
    "        \n",
    "        print(\"You =\", dice1, \"\\nComputer =\", dice2 )\n",
    "        \n",
    "        roll_dice = input(\"\\nType 'Yes' and press enter to roll again \")"
   ]
  },
  {
   "cell_type": "code",
   "execution_count": null,
   "metadata": {},
   "outputs": [],
   "source": []
  }
 ],
 "metadata": {
  "kernelspec": {
   "display_name": "Python 3",
   "language": "python",
   "name": "python3"
  },
  "language_info": {
   "codemirror_mode": {
    "name": "ipython",
    "version": 3
   },
   "file_extension": ".py",
   "mimetype": "text/x-python",
   "name": "python",
   "nbconvert_exporter": "python",
   "pygments_lexer": "ipython3",
   "version": "3.7.6"
  }
 },
 "nbformat": 4,
 "nbformat_minor": 4
}
