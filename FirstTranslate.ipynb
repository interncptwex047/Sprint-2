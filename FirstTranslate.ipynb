{
 "cells": [
  {
   "cell_type": "code",
   "execution_count": null,
   "metadata": {},
   "outputs": [],
   "source": [
    "# Isoleucine(I), Leucine(L), Valine(V), Phenylalanine(F), Methionine(M).\n",
    "# Translate \n",
    "codonlist = { \"UUA\" : \"L \", \"UUU\" : \"F \", \"UUC\" : \"F \", \"GUU\" : \"V \",  \"AUG\" : \"M \",\n",
    "            \"UUG\" : \"L \", \"CUU\" : \"L \", \"CUC\" : \"L \", \"CUA\" : \"L \", \"CUG\" : \"L \",\n",
    "            \"AUU\" : \"I \", \"GUU\" : \"V \", \"GUC\" : \"V \", \"GUA\" : \"V \", \"GUG\" : \"V \", \n",
    "             \"AUC\" : \"I \", \"AUA\" : \"I \"\n",
    "            }\n",
    "\n",
    "def amino_acid (rawn, codon):\n",
    "    dna = \"\"\n",
    "    for i in range(0, len(rawn), 3):\n",
    "        codon = rawn[i:i+3]\n",
    "        dna += codonlist[codon]\n",
    "    return dna\n"
   ]
  },
  {
   "cell_type": "code",
   "execution_count": null,
   "metadata": {},
   "outputs": [],
   "source": [
    "#Input\n",
    "print(amino_acid(\"UUAGUUUUUAUUAUGUUG\", codonlist))"
   ]
  },
  {
   "cell_type": "code",
   "execution_count": null,
   "metadata": {},
   "outputs": [],
   "source": []
  }
 ],
 "metadata": {
  "kernelspec": {
   "display_name": "Python 3",
   "language": "python",
   "name": "python3"
  },
  "language_info": {
   "codemirror_mode": {
    "name": "ipython",
    "version": 3
   },
   "file_extension": ".py",
   "mimetype": "text/x-python",
   "name": "python",
   "nbconvert_exporter": "python",
   "pygments_lexer": "ipython3",
   "version": "3.7.6"
  }
 },
 "nbformat": 4,
 "nbformat_minor": 4
}
