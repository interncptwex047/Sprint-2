{
 "cells": [
  {
   "cell_type": "code",
   "execution_count": 1,
   "metadata": {},
   "outputs": [
    {
     "name": "stdout",
     "output_type": "stream",
     "text": [
      "Rolling dice...\n",
      "\n",
      "You: 4 \n",
      "Computer: 4\n",
      "Draw\n",
      "\n",
      "Do you want to roll again?yes\n",
      "Error, please enter Yes/NoYes\n",
      "Rolling dice...\n",
      "\n",
      "You: 3 \n",
      "Computer: 4\n",
      "Computer won!\n",
      "\n",
      "Do you want to roll again?Yes\n",
      "Rolling dice...\n",
      "\n",
      "You: 6 \n",
      "Computer: 5\n",
      "You won!\n",
      "\n",
      "Do you want to roll again?no\n",
      "Error, please enter Yes/Nono\n",
      "Error, please enter Yes/Nono\n",
      "Error, please enter Yes/Nomo\n",
      "Error, please enter Yes/Nono\n",
      "Error, please enter Yes/NoNO\n",
      "Error, please enter Yes/NoNo\n",
      "\n",
      "Thank you for playing\n"
     ]
    }
   ],
   "source": [
    "import random \n",
    "import time\n",
    "\n",
    "roll_dice = True\n",
    "while roll_dice:\n",
    "    print(\"Rolling dice...\")\n",
    "    time.sleep(3)\n",
    "    dice1 = random.randint(1, 6)\n",
    "    dice2 = random.randint(1, 6)\n",
    "    print(\"\\nYou:\", dice1, \"\\nComputer:\", dice2)\n",
    "    if dice1 > dice2:\n",
    "        print(\"You won!\")\n",
    "    elif dice2 > dice1:\n",
    "        print(\"Computer won!\")\n",
    "    else:\n",
    "        print(\"Draw\")\n",
    "    \n",
    "    roll_dice = False\n",
    "    roll_again = input(\"\\nDo you want to roll again?\")\n",
    "    while roll_again not in [\"Yes\", \"No\"]:\n",
    "        roll_dice = False\n",
    "        roll_again = input(\"Error, please enter Yes/No\")\n",
    "    if roll_again == \"Yes\":\n",
    "        roll_dice = True\n",
    "    elif roll_again == \"No\":\n",
    "        roll_dice == False\n",
    "        print(\"\\nThank you for playing\")"
   ]
  },
  {
   "cell_type": "code",
   "execution_count": null,
   "metadata": {},
   "outputs": [],
   "source": []
  }
 ],
 "metadata": {
  "kernelspec": {
   "display_name": "Python 3",
   "language": "python",
   "name": "python3"
  },
  "language_info": {
   "codemirror_mode": {
    "name": "ipython",
    "version": 3
   },
   "file_extension": ".py",
   "mimetype": "text/x-python",
   "name": "python",
   "nbconvert_exporter": "python",
   "pygments_lexer": "ipython3",
   "version": "3.7.6"
  }
 },
 "nbformat": 4,
 "nbformat_minor": 4
}
